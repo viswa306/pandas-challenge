{
 "cells": [
  {
   "cell_type": "code",
   "execution_count": 230,
   "metadata": {},
   "outputs": [],
   "source": [
    "# Dependencies and Setup\n",
    "import pandas as pd\n",
    "import numpy as np\n",
    "\n",
    "# File to Load (Remember to Change These)\n",
    "school_data_to_load = \"Resources/schools_complete.csv\"\n",
    "student_data_to_load = \"Resources/students_complete.csv\"\n",
    "\n",
    "# Read School and Student Data File and store into Pandas DataFrames\n",
    "school_data = pd.read_csv(school_data_to_load)\n",
    "student_data = pd.read_csv(student_data_to_load)\n",
    "\n",
    "# Combine the data into a single dataset.  \n",
    "school_data_complete = pd.merge(student_data, school_data, how=\"left\", on=[\"school_name\", \"school_name\"])"
   ]
  },
  {
   "cell_type": "code",
   "execution_count": 231,
   "metadata": {},
   "outputs": [
    {
     "data": {
      "text/html": [
       "<div>\n",
       "<style scoped>\n",
       "    .dataframe tbody tr th:only-of-type {\n",
       "        vertical-align: middle;\n",
       "    }\n",
       "\n",
       "    .dataframe tbody tr th {\n",
       "        vertical-align: top;\n",
       "    }\n",
       "\n",
       "    .dataframe thead th {\n",
       "        text-align: right;\n",
       "    }\n",
       "</style>\n",
       "<table border=\"1\" class=\"dataframe\">\n",
       "  <thead>\n",
       "    <tr style=\"text-align: right;\">\n",
       "      <th></th>\n",
       "      <th>Student ID</th>\n",
       "      <th>student_name</th>\n",
       "      <th>gender</th>\n",
       "      <th>grade</th>\n",
       "      <th>school_name</th>\n",
       "      <th>reading_score</th>\n",
       "      <th>math_score</th>\n",
       "      <th>School ID</th>\n",
       "      <th>type</th>\n",
       "      <th>size</th>\n",
       "      <th>budget</th>\n",
       "    </tr>\n",
       "  </thead>\n",
       "  <tbody>\n",
       "    <tr>\n",
       "      <th>0</th>\n",
       "      <td>0</td>\n",
       "      <td>Paul Bradley</td>\n",
       "      <td>M</td>\n",
       "      <td>9th</td>\n",
       "      <td>Huang High School</td>\n",
       "      <td>66</td>\n",
       "      <td>79</td>\n",
       "      <td>0</td>\n",
       "      <td>District</td>\n",
       "      <td>2917</td>\n",
       "      <td>1910635</td>\n",
       "    </tr>\n",
       "    <tr>\n",
       "      <th>1</th>\n",
       "      <td>1</td>\n",
       "      <td>Victor Smith</td>\n",
       "      <td>M</td>\n",
       "      <td>12th</td>\n",
       "      <td>Huang High School</td>\n",
       "      <td>94</td>\n",
       "      <td>61</td>\n",
       "      <td>0</td>\n",
       "      <td>District</td>\n",
       "      <td>2917</td>\n",
       "      <td>1910635</td>\n",
       "    </tr>\n",
       "    <tr>\n",
       "      <th>2</th>\n",
       "      <td>2</td>\n",
       "      <td>Kevin Rodriguez</td>\n",
       "      <td>M</td>\n",
       "      <td>12th</td>\n",
       "      <td>Huang High School</td>\n",
       "      <td>90</td>\n",
       "      <td>60</td>\n",
       "      <td>0</td>\n",
       "      <td>District</td>\n",
       "      <td>2917</td>\n",
       "      <td>1910635</td>\n",
       "    </tr>\n",
       "    <tr>\n",
       "      <th>3</th>\n",
       "      <td>3</td>\n",
       "      <td>Dr. Richard Scott</td>\n",
       "      <td>M</td>\n",
       "      <td>12th</td>\n",
       "      <td>Huang High School</td>\n",
       "      <td>67</td>\n",
       "      <td>58</td>\n",
       "      <td>0</td>\n",
       "      <td>District</td>\n",
       "      <td>2917</td>\n",
       "      <td>1910635</td>\n",
       "    </tr>\n",
       "    <tr>\n",
       "      <th>4</th>\n",
       "      <td>4</td>\n",
       "      <td>Bonnie Ray</td>\n",
       "      <td>F</td>\n",
       "      <td>9th</td>\n",
       "      <td>Huang High School</td>\n",
       "      <td>97</td>\n",
       "      <td>84</td>\n",
       "      <td>0</td>\n",
       "      <td>District</td>\n",
       "      <td>2917</td>\n",
       "      <td>1910635</td>\n",
       "    </tr>\n",
       "    <tr>\n",
       "      <th>...</th>\n",
       "      <td>...</td>\n",
       "      <td>...</td>\n",
       "      <td>...</td>\n",
       "      <td>...</td>\n",
       "      <td>...</td>\n",
       "      <td>...</td>\n",
       "      <td>...</td>\n",
       "      <td>...</td>\n",
       "      <td>...</td>\n",
       "      <td>...</td>\n",
       "      <td>...</td>\n",
       "    </tr>\n",
       "    <tr>\n",
       "      <th>39165</th>\n",
       "      <td>39165</td>\n",
       "      <td>Donna Howard</td>\n",
       "      <td>F</td>\n",
       "      <td>12th</td>\n",
       "      <td>Thomas High School</td>\n",
       "      <td>99</td>\n",
       "      <td>90</td>\n",
       "      <td>14</td>\n",
       "      <td>Charter</td>\n",
       "      <td>1635</td>\n",
       "      <td>1043130</td>\n",
       "    </tr>\n",
       "    <tr>\n",
       "      <th>39166</th>\n",
       "      <td>39166</td>\n",
       "      <td>Dawn Bell</td>\n",
       "      <td>F</td>\n",
       "      <td>10th</td>\n",
       "      <td>Thomas High School</td>\n",
       "      <td>95</td>\n",
       "      <td>70</td>\n",
       "      <td>14</td>\n",
       "      <td>Charter</td>\n",
       "      <td>1635</td>\n",
       "      <td>1043130</td>\n",
       "    </tr>\n",
       "    <tr>\n",
       "      <th>39167</th>\n",
       "      <td>39167</td>\n",
       "      <td>Rebecca Tanner</td>\n",
       "      <td>F</td>\n",
       "      <td>9th</td>\n",
       "      <td>Thomas High School</td>\n",
       "      <td>73</td>\n",
       "      <td>84</td>\n",
       "      <td>14</td>\n",
       "      <td>Charter</td>\n",
       "      <td>1635</td>\n",
       "      <td>1043130</td>\n",
       "    </tr>\n",
       "    <tr>\n",
       "      <th>39168</th>\n",
       "      <td>39168</td>\n",
       "      <td>Desiree Kidd</td>\n",
       "      <td>F</td>\n",
       "      <td>10th</td>\n",
       "      <td>Thomas High School</td>\n",
       "      <td>99</td>\n",
       "      <td>90</td>\n",
       "      <td>14</td>\n",
       "      <td>Charter</td>\n",
       "      <td>1635</td>\n",
       "      <td>1043130</td>\n",
       "    </tr>\n",
       "    <tr>\n",
       "      <th>39169</th>\n",
       "      <td>39169</td>\n",
       "      <td>Carolyn Jackson</td>\n",
       "      <td>F</td>\n",
       "      <td>11th</td>\n",
       "      <td>Thomas High School</td>\n",
       "      <td>95</td>\n",
       "      <td>75</td>\n",
       "      <td>14</td>\n",
       "      <td>Charter</td>\n",
       "      <td>1635</td>\n",
       "      <td>1043130</td>\n",
       "    </tr>\n",
       "  </tbody>\n",
       "</table>\n",
       "<p>39170 rows × 11 columns</p>\n",
       "</div>"
      ],
      "text/plain": [
       "       Student ID       student_name gender grade         school_name  \\\n",
       "0               0       Paul Bradley      M   9th   Huang High School   \n",
       "1               1       Victor Smith      M  12th   Huang High School   \n",
       "2               2    Kevin Rodriguez      M  12th   Huang High School   \n",
       "3               3  Dr. Richard Scott      M  12th   Huang High School   \n",
       "4               4         Bonnie Ray      F   9th   Huang High School   \n",
       "...           ...                ...    ...   ...                 ...   \n",
       "39165       39165       Donna Howard      F  12th  Thomas High School   \n",
       "39166       39166          Dawn Bell      F  10th  Thomas High School   \n",
       "39167       39167     Rebecca Tanner      F   9th  Thomas High School   \n",
       "39168       39168       Desiree Kidd      F  10th  Thomas High School   \n",
       "39169       39169    Carolyn Jackson      F  11th  Thomas High School   \n",
       "\n",
       "       reading_score  math_score  School ID      type  size   budget  \n",
       "0                 66          79          0  District  2917  1910635  \n",
       "1                 94          61          0  District  2917  1910635  \n",
       "2                 90          60          0  District  2917  1910635  \n",
       "3                 67          58          0  District  2917  1910635  \n",
       "4                 97          84          0  District  2917  1910635  \n",
       "...              ...         ...        ...       ...   ...      ...  \n",
       "39165             99          90         14   Charter  1635  1043130  \n",
       "39166             95          70         14   Charter  1635  1043130  \n",
       "39167             73          84         14   Charter  1635  1043130  \n",
       "39168             99          90         14   Charter  1635  1043130  \n",
       "39169             95          75         14   Charter  1635  1043130  \n",
       "\n",
       "[39170 rows x 11 columns]"
      ]
     },
     "execution_count": 231,
     "metadata": {},
     "output_type": "execute_result"
    }
   ],
   "source": [
    "# Checking the data displayed in the dataframe\n",
    "school_data_complete"
   ]
  },
  {
   "cell_type": "code",
   "execution_count": 232,
   "metadata": {},
   "outputs": [
    {
     "data": {
      "text/plain": [
       "39170"
      ]
     },
     "execution_count": 232,
     "metadata": {},
     "output_type": "execute_result"
    }
   ],
   "source": [
    "#Calculate the total number of students\n",
    "Total_Students = school_data_complete[\"Student ID\"].count()\n",
    "Total_Students "
   ]
  },
  {
   "cell_type": "code",
   "execution_count": 233,
   "metadata": {},
   "outputs": [
    {
     "data": {
      "text/plain": [
       "Index(['Student ID', 'student_name', 'gender', 'grade', 'school_name',\n",
       "       'reading_score', 'math_score', 'School ID', 'type', 'size', 'budget'],\n",
       "      dtype='object')"
      ]
     },
     "execution_count": 233,
     "metadata": {},
     "output_type": "execute_result"
    }
   ],
   "source": [
    "# Get a list of all of our columns for easy reference\n",
    "school_data_complete.columns"
   ]
  },
  {
   "cell_type": "code",
   "execution_count": 234,
   "metadata": {},
   "outputs": [
    {
     "name": "stdout",
     "output_type": "stream",
     "text": [
      "78.98537145774827\n",
      "29370\n",
      "74.980853\n"
     ]
    }
   ],
   "source": [
    "# Create a list of the columns\n",
    "#columns = [\"school_name\"]\n",
    "\n",
    "#  Create a new df for \"Average math score,average reading score,%math score,%reading score, \" with the columns. \n",
    "school_disct_summary =school_data_complete.loc[school_data_complete[\"math_score\"]>=70]\n",
    "school_disct_summary\n",
    "\n",
    "#calculate Average math score\n",
    "average_math_score = school_data_complete['math_score'].mean()\n",
    "print(average_math_score)\n",
    "#Calculate the number of students with a passing math score (70 or greater)\n",
    "math_score_70above =len(school_data_complete.loc[school_data_complete[\"math_score\"]>=70])\n",
    "print(math_score_70above)\n",
    "\n",
    "#Calculate the percentage of students with a passing math score (70 or greater)\n",
    "math_score_per =round((math_score_70above/Total_Students )*100 ,6)\n",
    "print(math_score_per)\n"
   ]
  },
  {
   "cell_type": "code",
   "execution_count": 235,
   "metadata": {},
   "outputs": [],
   "source": [
    "# School Name : school_unique_data\n",
    "# School Type: School_type\n",
    "# Total Students:Total_Students\n",
    "# Total School Budget:Total_budget\n",
    "# Per Student Budget:Per_student_budget\n",
    "# Average Math Score:Average_math_score]\n",
    "# Average Reading Score: Avg_reading_score\n",
    "# % Passing Math: math_score_per\n",
    "# % Passing Reading:Reading_score_per\n",
    "# % Overall Passing (The percentage of students that passed math and reading.):overall_pass_per"
   ]
  },
  {
   "cell_type": "code",
   "execution_count": 236,
   "metadata": {},
   "outputs": [
    {
     "name": "stdout",
     "output_type": "stream",
     "text": [
      "81.87784018381414\n",
      "33610\n",
      "85.805463\n"
     ]
    }
   ],
   "source": [
    "#calculate the Reading_score average and Percentages\n",
    "school_disct_summary =school_data_complete.loc[school_data_complete[\"reading_score\"]>=70 ,  columns]\n",
    "school_disct_summary\n",
    "average_Reading_score = school_data_complete['reading_score'].mean()\n",
    "print(average_Reading_score)\n",
    "\n",
    "#Calculate the number of students with a passing reading score (70 or greater)\n",
    "Reading_score_above70 = len(school_data_complete.loc[school_data_complete[\"reading_score\"]>=70])\n",
    "print(Reading_score_above70)\n",
    "\n",
    "#Calculate the percentage of students with a passing reading score (70 or greater)\n",
    "Reading_score_per = round((Reading_score_above70/Total_Students )*100 ,6)\n",
    "print(Reading_score_per)\n",
    "\n"
   ]
  },
  {
   "cell_type": "code",
   "execution_count": 237,
   "metadata": {},
   "outputs": [
    {
     "data": {
      "text/plain": [
       "25528"
      ]
     },
     "execution_count": 237,
     "metadata": {},
     "output_type": "execute_result"
    }
   ],
   "source": [
    "#Calculate Totalnumber of students who passed math and reading (% Overall Passing)\n",
    "math_Reading_pass_students= len(school_data_complete.loc[(school_data_complete[\"math_score\"]>=70) & (school_data_complete[\"reading_score\"]>=70)])\n",
    "math_Reading_pass_students"
   ]
  },
  {
   "cell_type": "code",
   "execution_count": 238,
   "metadata": {},
   "outputs": [
    {
     "data": {
      "text/plain": [
       "65.172326"
      ]
     },
     "execution_count": 238,
     "metadata": {},
     "output_type": "execute_result"
    }
   ],
   "source": [
    "#Calculate Totalnumber of students who passed math and reading (% Overall Passing)\n",
    "overall_pass_per = round((math_Reading_pass_students/Total_Students)*100 ,6)\n",
    "overall_pass_per"
   ]
  },
  {
   "cell_type": "code",
   "execution_count": 239,
   "metadata": {},
   "outputs": [
    {
     "data": {
      "text/plain": [
       "array(['Huang High School', 'Figueroa High School', 'Shelton High School',\n",
       "       'Hernandez High School', 'Griffin High School',\n",
       "       'Wilson High School', 'Cabrera High School', 'Bailey High School',\n",
       "       'Holden High School', 'Pena High School', 'Wright High School',\n",
       "       'Rodriguez High School', 'Johnson High School', 'Ford High School',\n",
       "       'Thomas High School'], dtype=object)"
      ]
     },
     "execution_count": 239,
     "metadata": {},
     "output_type": "execute_result"
    }
   ],
   "source": [
    "#unique school data\n",
    "school_unique_data=school_data_complete[\"school_name\"].unique()\n",
    "school_unique_data"
   ]
  },
  {
   "cell_type": "code",
   "execution_count": 240,
   "metadata": {},
   "outputs": [
    {
     "data": {
      "text/plain": [
       "15"
      ]
     },
     "execution_count": 240,
     "metadata": {},
     "output_type": "execute_result"
    }
   ],
   "source": [
    "#Calculate the total number of schools\n",
    "\n",
    "Total_schools= len(school_unique_data)\n",
    "\n",
    "Total_schools"
   ]
  },
  {
   "cell_type": "code",
   "execution_count": 241,
   "metadata": {},
   "outputs": [
    {
     "data": {
      "text/plain": [
       "array([1910635, 1884411, 1056600, 3022020,  917500, 1319574, 1081356,\n",
       "       3124928,  248087,  585858, 1049400, 2547363, 3094650, 1763916,\n",
       "       1043130], dtype=int64)"
      ]
     },
     "execution_count": 241,
     "metadata": {},
     "output_type": "execute_result"
    }
   ],
   "source": [
    "# unique budget data in the column\n",
    "unique_budget=school_data_complete[\"budget\"].unique()\n",
    "unique_budget"
   ]
  },
  {
   "cell_type": "code",
   "execution_count": 242,
   "metadata": {},
   "outputs": [
    {
     "data": {
      "text/plain": [
       "24649428"
      ]
     },
     "execution_count": 242,
     "metadata": {},
     "output_type": "execute_result"
    }
   ],
   "source": [
    "# Finding Total budget\n",
    "Total_budget =sum(unique_budget)\n",
    "Total_budget"
   ]
  },
  {
   "cell_type": "code",
   "execution_count": 243,
   "metadata": {},
   "outputs": [
    {
     "data": {
      "text/plain": [
       "629.2935409752362"
      ]
     },
     "execution_count": 243,
     "metadata": {},
     "output_type": "execute_result"
    }
   ],
   "source": [
    "#Each student budget \n",
    "Per_student_budget = Total_budget/Total_Students\n",
    "Per_student_budget"
   ]
  },
  {
   "cell_type": "code",
   "execution_count": 244,
   "metadata": {},
   "outputs": [
    {
     "data": {
      "text/plain": [
       "0        District\n",
       "1        District\n",
       "2        District\n",
       "3        District\n",
       "4        District\n",
       "           ...   \n",
       "39165     Charter\n",
       "39166     Charter\n",
       "39167     Charter\n",
       "39168     Charter\n",
       "39169     Charter\n",
       "Name: type, Length: 39170, dtype: object"
      ]
     },
     "execution_count": 244,
     "metadata": {},
     "output_type": "execute_result"
    }
   ],
   "source": [
    "# unique School_types\n",
    "School_type = school_data_complete[\"type\"]\n",
    "School_type"
   ]
  },
  {
   "cell_type": "code",
   "execution_count": null,
   "metadata": {},
   "outputs": [],
   "source": []
  },
  {
   "cell_type": "code",
   "execution_count": 255,
   "metadata": {},
   "outputs": [
    {
     "data": {
      "text/html": [
       "<div>\n",
       "<style scoped>\n",
       "    .dataframe tbody tr th:only-of-type {\n",
       "        vertical-align: middle;\n",
       "    }\n",
       "\n",
       "    .dataframe tbody tr th {\n",
       "        vertical-align: top;\n",
       "    }\n",
       "\n",
       "    .dataframe thead th {\n",
       "        text-align: right;\n",
       "    }\n",
       "</style>\n",
       "<table border=\"1\" class=\"dataframe\">\n",
       "  <thead>\n",
       "    <tr style=\"text-align: right;\">\n",
       "      <th></th>\n",
       "      <th>school_name</th>\n",
       "      <th>school_Type</th>\n",
       "      <th>School_Total_budget</th>\n",
       "      <th>Total_students</th>\n",
       "      <th>Per_student_budget</th>\n",
       "      <th>average_math_score</th>\n",
       "      <th>average_Reading_score</th>\n",
       "      <th>% passing Math</th>\n",
       "      <th>% paasing Reading</th>\n",
       "      <th>% Overall passing</th>\n",
       "    </tr>\n",
       "  </thead>\n",
       "  <tbody>\n",
       "    <tr>\n",
       "      <th>1</th>\n",
       "      <td>Huang High School</td>\n",
       "      <td>District</td>\n",
       "      <td>1910635</td>\n",
       "      <td>1</td>\n",
       "      <td>629.293541</td>\n",
       "      <td>78.985371</td>\n",
       "      <td>81.87784</td>\n",
       "      <td>74.980853</td>\n",
       "      <td>85.805463</td>\n",
       "      <td>65.172326</td>\n",
       "    </tr>\n",
       "    <tr>\n",
       "      <th>2</th>\n",
       "      <td>Huang High School</td>\n",
       "      <td>District</td>\n",
       "      <td>1910635</td>\n",
       "      <td>2</td>\n",
       "      <td>629.293541</td>\n",
       "      <td>78.985371</td>\n",
       "      <td>81.87784</td>\n",
       "      <td>74.980853</td>\n",
       "      <td>85.805463</td>\n",
       "      <td>65.172326</td>\n",
       "    </tr>\n",
       "    <tr>\n",
       "      <th>4</th>\n",
       "      <td>Huang High School</td>\n",
       "      <td>District</td>\n",
       "      <td>1910635</td>\n",
       "      <td>4</td>\n",
       "      <td>629.293541</td>\n",
       "      <td>78.985371</td>\n",
       "      <td>81.87784</td>\n",
       "      <td>74.980853</td>\n",
       "      <td>85.805463</td>\n",
       "      <td>65.172326</td>\n",
       "    </tr>\n",
       "    <tr>\n",
       "      <th>5</th>\n",
       "      <td>Huang High School</td>\n",
       "      <td>District</td>\n",
       "      <td>1910635</td>\n",
       "      <td>5</td>\n",
       "      <td>629.293541</td>\n",
       "      <td>78.985371</td>\n",
       "      <td>81.87784</td>\n",
       "      <td>74.980853</td>\n",
       "      <td>85.805463</td>\n",
       "      <td>65.172326</td>\n",
       "    </tr>\n",
       "    <tr>\n",
       "      <th>6</th>\n",
       "      <td>Huang High School</td>\n",
       "      <td>District</td>\n",
       "      <td>1910635</td>\n",
       "      <td>6</td>\n",
       "      <td>629.293541</td>\n",
       "      <td>78.985371</td>\n",
       "      <td>81.87784</td>\n",
       "      <td>74.980853</td>\n",
       "      <td>85.805463</td>\n",
       "      <td>65.172326</td>\n",
       "    </tr>\n",
       "    <tr>\n",
       "      <th>...</th>\n",
       "      <td>...</td>\n",
       "      <td>...</td>\n",
       "      <td>...</td>\n",
       "      <td>...</td>\n",
       "      <td>...</td>\n",
       "      <td>...</td>\n",
       "      <td>...</td>\n",
       "      <td>...</td>\n",
       "      <td>...</td>\n",
       "      <td>...</td>\n",
       "    </tr>\n",
       "    <tr>\n",
       "      <th>39165</th>\n",
       "      <td>Thomas High School</td>\n",
       "      <td>Charter</td>\n",
       "      <td>1043130</td>\n",
       "      <td>39165</td>\n",
       "      <td>629.293541</td>\n",
       "      <td>78.985371</td>\n",
       "      <td>81.87784</td>\n",
       "      <td>74.980853</td>\n",
       "      <td>85.805463</td>\n",
       "      <td>65.172326</td>\n",
       "    </tr>\n",
       "    <tr>\n",
       "      <th>39166</th>\n",
       "      <td>Thomas High School</td>\n",
       "      <td>Charter</td>\n",
       "      <td>1043130</td>\n",
       "      <td>39166</td>\n",
       "      <td>629.293541</td>\n",
       "      <td>78.985371</td>\n",
       "      <td>81.87784</td>\n",
       "      <td>74.980853</td>\n",
       "      <td>85.805463</td>\n",
       "      <td>65.172326</td>\n",
       "    </tr>\n",
       "    <tr>\n",
       "      <th>39167</th>\n",
       "      <td>Thomas High School</td>\n",
       "      <td>Charter</td>\n",
       "      <td>1043130</td>\n",
       "      <td>39167</td>\n",
       "      <td>629.293541</td>\n",
       "      <td>78.985371</td>\n",
       "      <td>81.87784</td>\n",
       "      <td>74.980853</td>\n",
       "      <td>85.805463</td>\n",
       "      <td>65.172326</td>\n",
       "    </tr>\n",
       "    <tr>\n",
       "      <th>39168</th>\n",
       "      <td>Thomas High School</td>\n",
       "      <td>Charter</td>\n",
       "      <td>1043130</td>\n",
       "      <td>39168</td>\n",
       "      <td>629.293541</td>\n",
       "      <td>78.985371</td>\n",
       "      <td>81.87784</td>\n",
       "      <td>74.980853</td>\n",
       "      <td>85.805463</td>\n",
       "      <td>65.172326</td>\n",
       "    </tr>\n",
       "    <tr>\n",
       "      <th>39169</th>\n",
       "      <td>Thomas High School</td>\n",
       "      <td>Charter</td>\n",
       "      <td>1043130</td>\n",
       "      <td>39169</td>\n",
       "      <td>629.293541</td>\n",
       "      <td>78.985371</td>\n",
       "      <td>81.87784</td>\n",
       "      <td>74.980853</td>\n",
       "      <td>85.805463</td>\n",
       "      <td>65.172326</td>\n",
       "    </tr>\n",
       "  </tbody>\n",
       "</table>\n",
       "<p>33610 rows × 10 columns</p>\n",
       "</div>"
      ],
      "text/plain": [
       "              school_name school_Type  School_Total_budget  Total_students  \\\n",
       "1       Huang High School    District              1910635               1   \n",
       "2       Huang High School    District              1910635               2   \n",
       "4       Huang High School    District              1910635               4   \n",
       "5       Huang High School    District              1910635               5   \n",
       "6       Huang High School    District              1910635               6   \n",
       "...                   ...         ...                  ...             ...   \n",
       "39165  Thomas High School     Charter              1043130           39165   \n",
       "39166  Thomas High School     Charter              1043130           39166   \n",
       "39167  Thomas High School     Charter              1043130           39167   \n",
       "39168  Thomas High School     Charter              1043130           39168   \n",
       "39169  Thomas High School     Charter              1043130           39169   \n",
       "\n",
       "       Per_student_budget  average_math_score  average_Reading_score  \\\n",
       "1              629.293541           78.985371               81.87784   \n",
       "2              629.293541           78.985371               81.87784   \n",
       "4              629.293541           78.985371               81.87784   \n",
       "5              629.293541           78.985371               81.87784   \n",
       "6              629.293541           78.985371               81.87784   \n",
       "...                   ...                 ...                    ...   \n",
       "39165          629.293541           78.985371               81.87784   \n",
       "39166          629.293541           78.985371               81.87784   \n",
       "39167          629.293541           78.985371               81.87784   \n",
       "39168          629.293541           78.985371               81.87784   \n",
       "39169          629.293541           78.985371               81.87784   \n",
       "\n",
       "       % passing Math  % paasing Reading  % Overall passing  \n",
       "1           74.980853          85.805463          65.172326  \n",
       "2           74.980853          85.805463          65.172326  \n",
       "4           74.980853          85.805463          65.172326  \n",
       "5           74.980853          85.805463          65.172326  \n",
       "6           74.980853          85.805463          65.172326  \n",
       "...               ...                ...                ...  \n",
       "39165       74.980853          85.805463          65.172326  \n",
       "39166       74.980853          85.805463          65.172326  \n",
       "39167       74.980853          85.805463          65.172326  \n",
       "39168       74.980853          85.805463          65.172326  \n",
       "39169       74.980853          85.805463          65.172326  \n",
       "\n",
       "[33610 rows x 10 columns]"
      ]
     },
     "execution_count": 255,
     "metadata": {},
     "output_type": "execute_result"
    }
   ],
   "source": [
    "#  Create new columns average math score,average reading score,% paaing math,% passing reading,%Overall passing.\n",
    "#school_disct_summary[\"school Name\"] =school_data_complete[\"school_name\"]\n",
    "school_disct_summary\n",
    "school_disct_summary[\"school_Type\"] =school_data_complete[\"type\"]\n",
    "school_disct_summary\n",
    "school_disct_summary[\"School_Total_budget\"] = school_data_complete[\"budget\"]\n",
    "school_disct_summary\n",
    "school_disct_summary[\"Total_students\"] =school_data_complete[\"Student ID\"]\n",
    " \n",
    "school_disct_summary\n",
    "\n",
    "school_disct_summary[\"Per_student_budget\"] =Total_budget/Total_Students\n",
    "school_disct_summary\n",
    "school_disct_summary[\"average_math_score\"] =school_data_complete['math_score'].mean()\n",
    "\n",
    "school_disct_summary\n",
    "school_disct_summary[\"average_Reading_score\"] =school_data_complete['reading_score'].mean()\n",
    "school_disct_summary\n",
    "school_disct_summary[\"% passing Math\"] =round((math_score_70above/Total_Students )*100 ,6)\n",
    "school_disct_summary\n",
    "school_disct_summary[\"% paasing Reading\"] =round((Reading_score_above70/Total_Students )*100 ,6)\n",
    "school_disct_summary\n",
    "school_disct_summary[\"% Overall passing\"] =round((math_Reading_pass_students/Total_Students)*100,6)\n",
    "school_disct_summary\n"
   ]
  },
  {
   "cell_type": "code",
   "execution_count": 246,
   "metadata": {},
   "outputs": [
    {
     "data": {
      "text/plain": [
       "Index(['school_name', 'school_Type', 'School_Total_budget', 'Total_students',\n",
       "       'Per_student_budget', 'average_math_score', 'average_Reading_score',\n",
       "       '% passing Math', '% paasing Reading', '% Overall passing'],\n",
       "      dtype='object')"
      ]
     },
     "execution_count": 246,
     "metadata": {},
     "output_type": "execute_result"
    }
   ],
   "source": [
    "school_disct_summary.columns"
   ]
  },
  {
   "cell_type": "code",
   "execution_count": 247,
   "metadata": {},
   "outputs": [],
   "source": [
    "# # created new data frame with \"school_name\", \"type\",\"size\",\"budget\",\"math_score\",\"reading_score\" data\n",
    "# School_summary =({\"school_name\":[school_unique_data],\"School_Type \":[School_type],\"Total_Students\":[Total_Students],\n",
    "                                \n",
    "#                                 \"Total_School_Budget\":[Total_budget],\"Per_Student_Budget\":[Per_student_budget],\n",
    "                                 \n",
    "#                                 \"Average_Math_Score\":[Average_math_score],\"Average_Reading_Score\":[Avg_reading_score],\n",
    "#                                 \"% Passing Math\":[math_score_per],\"% Passing Reading\":[Reading_score_per],\n",
    "#                                  \"% Overall Passing\":[overall_pass_per]                            \n",
    "                                                                                               \n",
    "#                                 })\n",
    "# school_summary_df =pd.DataFrame(School_summary)   \n",
    "\n",
    "# school_summary_df.head()                                                                                              \n",
    "                       "
   ]
  },
  {
   "cell_type": "code",
   "execution_count": 256,
   "metadata": {},
   "outputs": [
    {
     "data": {
      "text/plain": [
       "657504866"
      ]
     },
     "execution_count": 256,
     "metadata": {},
     "output_type": "execute_result"
    }
   ],
   "source": []
  },
  {
   "cell_type": "code",
   "execution_count": 260,
   "metadata": {},
   "outputs": [
    {
     "ename": "SyntaxError",
     "evalue": "invalid syntax (<ipython-input-260-6b27dbe97b08>, line 6)",
     "output_type": "error",
     "traceback": [
      "\u001b[1;36m  File \u001b[1;32m\"<ipython-input-260-6b27dbe97b08>\"\u001b[1;36m, line \u001b[1;32m6\u001b[0m\n\u001b[1;33m    school_disct_summary_groups[\"\"Total_students\",\"].count()\u001b[0m\n\u001b[1;37m                                               ^\u001b[0m\n\u001b[1;31mSyntaxError\u001b[0m\u001b[1;31m:\u001b[0m invalid syntax\n"
     ]
    }
   ],
   "source": [
    "# Group by the schools\n",
    "\n",
    "\n",
    "school_disct_summary_groups =school_disct_summary.groupby(\"school_name\")\n",
    "school_disct_summary_groups[\"school_name\"].count()\n",
    "school_disct_summary_groups[\"\"Total_students\",\"].count()"
   ]
  },
  {
   "cell_type": "code",
   "execution_count": 259,
   "metadata": {},
   "outputs": [
    {
     "data": {
      "text/plain": [
       "school_name\n",
       "Bailey High School        83006203\n",
       "Cabrera High School       30544600\n",
       "Figueroa High School      10477295\n",
       "Ford High School          78558499\n",
       "Griffin High School       18533799\n",
       "Hernandez High School     37253547\n",
       "Holden High School         9477891\n",
       "Huang High School          3471441\n",
       "Johnson High School      125411472\n",
       "Pena High School          21927071\n",
       "Rodriguez High School     89955820\n",
       "Shelton High School       11383469\n",
       "Thomas High School        61019032\n",
       "Wilson High School        32776470\n",
       "Wright High School        43708257\n",
       "Name: Total_students, dtype: int64"
      ]
     },
     "execution_count": 259,
     "metadata": {},
     "output_type": "execute_result"
    }
   ],
   "source": [
    "# Get the average of each column within the GroupBy object\n",
    "school_disct_summary_groups[\"Total_students\"].sum()"
   ]
  }
 ],
 "metadata": {
  "kernelspec": {
   "display_name": "Python 3",
   "language": "python",
   "name": "python3"
  },
  "language_info": {
   "codemirror_mode": {
    "name": "ipython",
    "version": 3
   },
   "file_extension": ".py",
   "mimetype": "text/x-python",
   "name": "python",
   "nbconvert_exporter": "python",
   "pygments_lexer": "ipython3",
   "version": "3.7.6"
  }
 },
 "nbformat": 4,
 "nbformat_minor": 4
}
